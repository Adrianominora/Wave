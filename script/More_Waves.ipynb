{
 "cells": [
  {
   "cell_type": "code",
   "execution_count": 2,
   "metadata": {},
   "outputs": [],
   "source": [
    "# Import\n",
    "\n",
    "from lmfit import Model, Parameters\n",
    "import numpy as np\n",
    "import matplotlib.pyplot as plt\n",
    "import matplotlib as mpl\n",
    "import pandas as pd\n",
    "import Forecast as fc"
   ]
  },
  {
   "cell_type": "code",
   "execution_count": 3,
   "metadata": {},
   "outputs": [],
   "source": [
    "# Load data\n",
    "\n",
    "national_data=pd.read_csv('..\\data\\dati-andamento-nazionale\\dpc-covid19-ita-andamento-nazionale.csv')\n",
    "new_pos_tot=national_data['nuovi_positivi'].values[:]\n",
    "cum_pos_tot=np.cumsum(new_pos_tot)"
   ]
  },
  {
   "cell_type": "code",
   "execution_count": 4,
   "metadata": {},
   "outputs": [],
   "source": [
    "for i in range(10,10):\n",
    "    print(i)"
   ]
  },
  {
   "cell_type": "code",
   "execution_count": 5,
   "metadata": {},
   "outputs": [
    {
     "name": "stdout",
     "output_type": "stream",
     "text": [
      "[0]\n"
     ]
    },
    {
     "name": "stderr",
     "output_type": "stream",
     "text": [
      "c:\\Users\\adria\\OneDrive - Politecnico di Milano\\adriano\\politecnico\\Mathematical Engineering\\Advanced Mathematical Modelling\\Projects\\Wave\\script\\Forecast.py:52: RuntimeWarning: divide by zero encountered in log\n",
      "  log_data = np.log(data)\n",
      "c:\\Users\\adria\\OneDrive - Politecnico di Milano\\adriano\\politecnico\\Mathematical Engineering\\Advanced Mathematical Modelling\\Projects\\Wave\\script\\Forecast.py:55: RuntimeWarning: invalid value encountered in scalar subtract\n",
      "  rt[i] = log_data[i+1]-log_data[i]\n"
     ]
    },
    {
     "ename": "UnboundLocalError",
     "evalue": "local variable 'result_params' referenced before assignment",
     "output_type": "error",
     "traceback": [
      "\u001b[1;31m---------------------------------------------------------------------------\u001b[0m",
      "\u001b[1;31mUnboundLocalError\u001b[0m                         Traceback (most recent call last)",
      "Cell \u001b[1;32mIn[5], line 14\u001b[0m\n\u001b[0;32m     11\u001b[0m n_wave \u001b[39m=\u001b[39m \u001b[39mlen\u001b[39m(t_start)\n\u001b[0;32m     13\u001b[0m WF \u001b[39m=\u001b[39m fc\u001b[39m.\u001b[39mwave_fit(new_pos_tot)\n\u001b[1;32m---> 14\u001b[0m WF\u001b[39m.\u001b[39;49mfit(t,t\u001b[39m+\u001b[39;49m\u001b[39m1\u001b[39;49m)\n\u001b[0;32m     15\u001b[0m forecast_list\u001b[39m+\u001b[39m\u001b[39m=\u001b[39mWF\u001b[39m.\u001b[39mforecast_list[\u001b[39m0\u001b[39m]\n\u001b[0;32m     16\u001b[0m corrected_forecast_list \u001b[39m=\u001b[39m WF\u001b[39m.\u001b[39mcorrected_forecast_list\n",
      "File \u001b[1;32mc:\\Users\\adria\\OneDrive - Politecnico di Milano\\adriano\\politecnico\\Mathematical Engineering\\Advanced Mathematical Modelling\\Projects\\Wave\\script\\Forecast.py:163\u001b[0m, in \u001b[0;36mwave_fit.fit\u001b[1;34m(self, t0, T_tot)\u001b[0m\n\u001b[0;32m    161\u001b[0m     params \u001b[39m=\u001b[39m make_param_0()\n\u001b[0;32m    162\u001b[0m \u001b[39melse\u001b[39;00m:\n\u001b[1;32m--> 163\u001b[0m     params\u001b[39m=\u001b[39mresult_params\n\u001b[0;32m    165\u001b[0m fit, result_params, forecast \u001b[39m=\u001b[39m make_forecast(\u001b[39mself\u001b[39m\u001b[39m.\u001b[39mnew_pos_avg, params)\n\u001b[0;32m    167\u001b[0m \u001b[39m# Saving parameters and forecast\u001b[39;00m\n",
      "\u001b[1;31mUnboundLocalError\u001b[0m: local variable 'result_params' referenced before assignment"
     ]
    }
   ],
   "source": [
    "# Main code\n",
    "\n",
    "n = 0\n",
    "t = 0\n",
    "forecast_list=[]\n",
    "\n",
    "for t in range (14,120):\n",
    "    t_start = fc.compute_start(new_pos_tot[0:t], window_size=7)\n",
    "    t0 = t_start[-1]\n",
    "    n_wave = len(t_start)\n",
    "\n",
    "    WF = fc.wave_fit(new_pos_tot)\n",
    "    WF.fit(t,t+1)\n",
    "    forecast_list+=WF.forecast_list[0]\n",
    "    corrected_forecast_list = WF.corrected_forecast_list\n",
    "\n",
    "\n"
   ]
  }
 ],
 "metadata": {
  "kernelspec": {
   "display_name": "my-env",
   "language": "python",
   "name": "python3"
  },
  "language_info": {
   "codemirror_mode": {
    "name": "ipython",
    "version": 3
   },
   "file_extension": ".py",
   "mimetype": "text/x-python",
   "name": "python",
   "nbconvert_exporter": "python",
   "pygments_lexer": "ipython3",
   "version": "3.10.9"
  },
  "orig_nbformat": 4
 },
 "nbformat": 4,
 "nbformat_minor": 2
}
