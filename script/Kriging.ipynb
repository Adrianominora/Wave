{
 "cells": [
  {
   "cell_type": "code",
   "execution_count": 9,
   "metadata": {},
   "outputs": [],
   "source": [
    "#Imports\n",
    "import numpy as np\n",
    "import matplotlib.pyplot as plt\n",
    "import pandas as pd\n",
    "import Forecast as fc\n",
    "import pickle"
   ]
  },
  {
   "cell_type": "code",
   "execution_count": 16,
   "metadata": {},
   "outputs": [
    {
     "data": {
      "text/plain": [
       "201115.92344096565"
      ]
     },
     "execution_count": 16,
     "metadata": {},
     "output_type": "execute_result"
    }
   ],
   "source": [
    "# loading data\n",
    "\n",
    "provinces = pd.read_csv('..\\data\\dati-province\\dpc-covid19-ita-province.csv')\n",
    "today = '2021-06-26T17:00:00'\n",
    "today_data = provinces.loc[provinces['data']==today]\n",
    "\n",
    "population = pd.read_csv('..\\data\\Popolazione_province.csv', index_col=0)\n",
    "\n",
    "p_list = pd.read_csv('..\\data\\Provinces_list.csv')['Sigla'].tolist()\n",
    "\n",
    "# Load the coordinates from the file\n",
    "with open('..\\data\\coordinates_dict.pickle', 'rb') as file:\n",
    "    coord_df = pickle.load(file)\n",
    "\n",
    "# Load the distances from the file\n",
    "with open('..\\data\\distances_df.pickle', 'rb') as file:\n",
    "    distances_df = pickle.load(file)\n"
   ]
  },
  {
   "cell_type": "code",
   "execution_count": 48,
   "metadata": {},
   "outputs": [],
   "source": [
    "# Load the dictionary from the file\n",
    "with open('..\\data\\provinces_fit.pickle', 'rb') as file:\n",
    "    provinces_fitted = pickle.load(file)\n",
    "\n",
    "selected_start=200\n",
    "wave_index = [[i for i, t in enumerate(provinces_fitted[sigla].L_starts) if t>selected_start][0] for sigla in p_list]\n",
    "wave_params = [ provinces_fitted[sigla].L_waves[wave_index[i]].params  for i, sigla in enumerate(p_list)]\n",
    "z1 = [param['K'].value for param in wave_params]\n"
   ]
  },
  {
   "cell_type": "code",
   "execution_count": 53,
   "metadata": {},
   "outputs": [],
   "source": [
    "# Distance matrix\n",
    "\n",
    "D = distances_df.to_numpy()"
   ]
  },
  {
   "cell_type": "code",
   "execution_count": 58,
   "metadata": {},
   "outputs": [
    {
     "data": {
      "image/png": "[encoded data removed]",
      "text/plain": [
       "<Figure size 640x480 with 1 Axes>"
      ]
     },
     "metadata": {},
     "output_type": "display_data"
    }
   ],
   "source": [
    "# Distance bins and empirical variograms\n",
    "\n",
    "D_max = np.amax(D)\n",
    "n_bins = 30\n",
    "bin_edges = np.linspace(0,D_max,n_bins+1)\n",
    "bin_width = bin_edges[1]-bin_edges[0]\n",
    "bin_centers = np.linspace(bin_width/2,D_max-bin_width/2, n_bins)\n",
    "bins = []\n",
    "for k in range(n_bins):\n",
    "    bin_k = []\n",
    "    for i in range(n_points):\n",
    "        for j in range(i+1, n_points):\n",
    "            if D[i,j]>bin_edges[k] and D[i,j]<=bin_edges[k+1]:\n",
    "                bin_k.append((i,j))\n",
    "    bins.append(bin_k)\n",
    "            \n",
    "gamma = np.zeros(n_bins)\n",
    "for k in range(n_bins):\n",
    "    sum = 0\n",
    "    for s in range(len(bins[k])):\n",
    "        i = bins[k][s][0]\n",
    "        j = bins[k][s][1]\n",
    "        sum += (z1[i]-z1[j])**2\n",
    "    gamma[k]=1/(2*len(bins[k]))*sum\n",
    "\n",
    "plt.figure()\n",
    "for k in range(n_bins):\n",
    "    plt.scatter(bin_centers[k], gamma[k], color='red', marker='.')\n",
    "plt.grid(True)"
   ]
  }
 ],
 "metadata": {
  "kernelspec": {
   "display_name": "my-env",
   "language": "python",
   "name": "python3"
  },
  "language_info": {
   "codemirror_mode": {
    "name": "ipython",
    "version": 3
   },
   "file_extension": ".py",
   "mimetype": "text/x-python",
   "name": "python",
   "nbconvert_exporter": "python",
   "pygments_lexer": "ipython3",
   "version": "3.10.9"
  },
  "orig_nbformat": 4
 },
 "nbformat": 4,
 "nbformat_minor": 2
}
