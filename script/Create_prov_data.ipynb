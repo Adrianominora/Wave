{
 "cells": [
  {
   "cell_type": "code",
   "execution_count": null,
   "metadata": {},
   "outputs": [],
   "source": [
    "#Imports\n",
    "import numpy as np\n",
    "import matplotlib.pyplot as plt\n",
    "import pandas as pd\n",
    "import Forecast as fc"
   ]
  },
  {
   "cell_type": "code",
   "execution_count": null,
   "metadata": {},
   "outputs": [],
   "source": [
    "# loading data\n",
    "\n",
    "provinces = pd.read_csv('..\\data\\dati-province\\dpc-covid19-ita-province.csv')\n",
    "today = '2021-06-26T17:00:00'\n",
    "today_data = provinces.loc[provinces['data']==today]\n",
    "\n",
    "population = pd.read_csv('..\\data\\Popolazione_province.csv', index_col=0)\n",
    "\n",
    "p_list = pd.read_csv('..\\data\\Provinces_list.csv')['Sigla'].tolist()\n",
    "\n",
    "x = today_data.loc[today_data['sigla_provincia'].isin(p_list)]['long'].values\n",
    "y = today_data.loc[today_data['sigla_provincia'].isin(p_list)]['lat'].values\n",
    "sigla = today_data.loc[today_data['sigla_provincia'].isin(p_list)]['sigla_provincia'].values\n",
    "z = today_data.loc[today_data['sigla_provincia'].isin(p_list)]['totale_casi'].values\n",
    "\n",
    "n_points = x.shape[0]\n",
    "\n",
    "plt.figure()\n",
    "for i in range(n_points):\n",
    "    plt.scatter(x[i], y[i])\n",
    "    plt.text(x[i], y[i], sigla[i])\n",
    "plt.grid(True)\n",
    "\n"
   ]
  },
  {
   "cell_type": "code",
   "execution_count": null,
   "metadata": {},
   "outputs": [],
   "source": [
    "# Extracting data for each province\n",
    "df_list = []\n",
    "for pr in p_list:\n",
    "    df_list.append(provinces.loc[provinces['sigla_provincia']==pr])\n",
    "\n",
    "n_days = df_list[0]['totale_casi'].values.shape[0]\n",
    "new_pos_dict = {}\n",
    "\n",
    "# index = p_list.index('BO')\n",
    "\n",
    "for index, sigla in enumerate(p_list):\n",
    "    plt.figure()\n",
    "    plt.title(sigla)\n",
    "    my_data = df_list[index]\n",
    "    pos_tot = my_data['totale_casi'].values/population['Residenti'][sigla]*100000\n",
    "    new_pos = pos_tot.copy()\n",
    "    new_pos[1:] = (pos_tot[1:]-pos_tot[:-1])\n",
    "    new_pos_dict.update({sigla: new_pos})\n",
    "    plt.plot(new_pos, label=sigla)\n",
    "    plt.grid(True)"
   ]
  },
  {
   "cell_type": "code",
   "execution_count": null,
   "metadata": {},
   "outputs": [],
   "source": [
    "# Fitting data with Forecast class\n",
    "\n",
    "waves_dict = {}\n",
    "\n",
    "for index, sigla in enumerate(p_list):\n",
    "    print('Fitting for: '+sigla)\n",
    "    new_pos_tot = new_pos_dict[sigla]\n",
    "\n",
    "    t0=14\n",
    "    T=new_pos_tot.shape[0]\n",
    "    tt_forecast = np.arange(t0,T)\n",
    "    rt_list = []\n",
    "\n",
    "    my_prediction = np.zeros(T-t0)\n",
    "\n",
    "    Forecast = fc.n_waves(new_pos_tot,window=7)\n",
    "    fit_data = np.zeros(T)\n",
    "    for t in tt_forecast:\n",
    "        fit_data[t] = Forecast.daily_update()\n",
    "        rt_list.append(Forecast.rt)\n",
    "        my_prediction[t-t0] = Forecast.predict(t+1)\n",
    "\n",
    "    waves_dict.update({sigla: Forecast.L_waves})\n",
    "\n"
   ]
  },
  {
   "cell_type": "code",
   "execution_count": null,
   "metadata": {},
   "outputs": [],
   "source": [
    "# Save the dictionary to a file using pickle\n",
    "import pickle\n",
    "\n",
    "save_flag=False\n",
    "if save_flag:\n",
    "    with open('..\\data\\provinces_waves.pickle', 'wb') as file:\n",
    "        pickle.dump(waves_dict, file)"
   ]
  }
 ],
 "metadata": {
  "language_info": {
   "name": "python"
  },
  "orig_nbformat": 4
 },
 "nbformat": 4,
 "nbformat_minor": 2
}
