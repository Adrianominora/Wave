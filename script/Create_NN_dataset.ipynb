{
 "cells": [
  {
   "cell_type": "code",
   "execution_count": 9,
   "metadata": {},
   "outputs": [],
   "source": [
    "import numpy as np\n",
    "import matplotlib.pyplot as plt\n",
    "import pandas as pd\n",
    "import pickle"
   ]
  },
  {
   "cell_type": "code",
   "execution_count": 10,
   "metadata": {},
   "outputs": [],
   "source": [
    "# Load the dictionary from the file\n",
    "with open('..\\data\\mat_dict.pickle', 'rb') as file:\n",
    "    mat_dict = pickle.load(file)\n",
    "n_windows = mat_dict['BO'].shape[0]\n",
    "\n",
    "INPUTDIM = (40,28)\n",
    "OUTPUTDIM = (7,28)\n",
    "test_labels = ['MO','RO', 'VI', 'AL', 'BI', 'PN', 'MB']\n"
   ]
  },
  {
   "cell_type": "code",
   "execution_count": 11,
   "metadata": {},
   "outputs": [
    {
     "data": {
      "text/plain": [
       "(56, 28)"
      ]
     },
     "execution_count": 11,
     "metadata": {},
     "output_type": "execute_result"
    }
   ],
   "source": [
    "mat_dict['BO'].shape"
   ]
  },
  {
   "cell_type": "code",
   "execution_count": 14,
   "metadata": {},
   "outputs": [],
   "source": [
    "# Create traing set\n",
    "\n",
    "input_train = np.ones((n_windows,INPUTDIM[0],INPUTDIM[1]))\n",
    "output_train = np.ones((n_windows,OUTPUTDIM[0], OUTPUTDIM[1]))\n",
    "i=0\n",
    "j=0\n",
    "for sigla, local_data in mat_dict.items():\n",
    "    if not sigla in test_labels:\n",
    "        input_train[:,i,:]=local_data\n",
    "        i += 1\n",
    "    else:\n",
    "        output_train[:,j,:]=local_data\n",
    "        j += 1"
   ]
  }
 ],
 "metadata": {
  "kernelspec": {
   "display_name": "my-env",
   "language": "python",
   "name": "python3"
  },
  "language_info": {
   "codemirror_mode": {
    "name": "ipython",
    "version": 3
   },
   "file_extension": ".py",
   "mimetype": "text/x-python",
   "name": "python",
   "nbconvert_exporter": "python",
   "pygments_lexer": "ipython3",
   "version": "3.10.9"
  },
  "orig_nbformat": 4
 },
 "nbformat": 4,
 "nbformat_minor": 2
}
