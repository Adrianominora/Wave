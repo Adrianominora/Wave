{
 "cells": [
  {
   "cell_type": "code",
   "execution_count": 42,
   "metadata": {},
   "outputs": [],
   "source": [
    "#Imports\n",
    "import numpy as np\n",
    "import matplotlib.pyplot as plt\n",
    "import pandas as pd\n",
    "import Forecast as fc\n",
    "import pickle"
   ]
  },
  {
   "cell_type": "code",
   "execution_count": 43,
   "metadata": {},
   "outputs": [],
   "source": [
    "# loading data\n",
    "\n",
    "provinces = pd.read_csv('..\\data\\dati-province\\dpc-covid19-ita-province.csv')\n",
    "today = '2021-06-26T17:00:00'\n",
    "today_data = provinces.loc[provinces['data']==today]\n",
    "\n",
    "population = pd.read_csv('..\\data\\Popolazione_province.csv', index_col=0)\n",
    "\n",
    "p_list = pd.read_csv('..\\data\\Provinces_list.csv')['Sigla'].tolist()\n",
    "\n",
    "# Load the coordinates from the file\n",
    "with open('..\\data\\coordinates_dict.pickle', 'rb') as file:\n",
    "    coord_df = pickle.load(file)\n",
    "\n",
    "# Load the distances from the file\n",
    "with open('..\\data\\distances_df.pickle', 'rb') as file:\n",
    "    distances_df = pickle.load(file)"
   ]
  },
  {
   "cell_type": "code",
   "execution_count": 44,
   "metadata": {},
   "outputs": [],
   "source": [
    "# Load the dictionary from the file\n",
    "with open('..\\data\\provinces_fit.pickle', 'rb') as file:\n",
    "    provinces_fitted = pickle.load(file)\n",
    "\n",
    "selected_start=200\n",
    "wave_index = [[i for i, t in enumerate(provinces_fitted[sigla].L_starts) if t>selected_start][0] for sigla in p_list]\n",
    "wave_params = [ provinces_fitted[sigla].L_waves[wave_index[i]].params  for i, sigla in enumerate(p_list)]\n",
    "z1 = [param['K'].value for param in wave_params]\n",
    "z2 = [param['b'].value for param in wave_params]\n",
    "z3 = [param['c'].value for param in wave_params]\n",
    "z4 = [param['t_max'].value for param in wave_params]"
   ]
  },
  {
   "cell_type": "code",
   "execution_count": 45,
   "metadata": {},
   "outputs": [],
   "source": [
    "test_labels = ['MO','RO', 'VI', 'AL', 'BI', 'PN', 'MB']\n",
    "data_labels = [sigla for sigla in p_list if not(sigla in test_labels)]\n",
    "x_data = [ coord_df[sigla][0] for sigla in (data_labels) ]\n",
    "y_data = [ coord_df[sigla][1] for sigla in (data_labels) ]\n",
    "x_test = [ coord_df[sigla][0] for sigla in (test_labels) ]\n",
    "y_test = [ coord_df[sigla][1] for sigla in (test_labels) ]"
   ]
  },
  {
   "cell_type": "code",
   "execution_count": 46,
   "metadata": {},
   "outputs": [],
   "source": [
    "selected_start=200\n",
    "data_wave_index = [[i for i, t in enumerate(provinces_fitted[sigla].L_starts) if t>selected_start][0] for sigla in data_labels]\n",
    "data_wave_params = [ provinces_fitted[sigla].L_waves[data_wave_index[i]].params  for i, sigla in enumerate(data_labels)]\n",
    "z1_data = [param['K'].value for param in data_wave_params]\n",
    "z2_data = [param['b'].value for param in data_wave_params]\n",
    "z3_data = [param['c'].value for param in data_wave_params]\n",
    "\n",
    "test_wave_index = [[i for i, t in enumerate(provinces_fitted[sigla].L_starts) if t>selected_start][0] for sigla in test_labels]\n",
    "test_wave_params = [ provinces_fitted[sigla].L_waves[test_wave_index[i]].params  for i, sigla in enumerate(test_labels)]\n",
    "z1_test = [param['K'].value for param in test_wave_params]\n",
    "z2_test = [param['b'].value for param in test_wave_params]\n",
    "z3_test = [param['c'].value for param in test_wave_params]"
   ]
  },
  {
   "cell_type": "code",
   "execution_count": 47,
   "metadata": {},
   "outputs": [],
   "source": [
    "# Radial basis Function approach\n",
    "\n",
    "def RBF(z_data, coor_data, coor_test, sigma):\n",
    "    n_data = len(coor_data[0])\n",
    "    n_test = len(coor_test[0])\n",
    "\n",
    "    def radial_basis(x,y,sigma):\n",
    "        return 1./(1+(x**2 + y**2)/sigma**2)\n",
    "\n",
    "    # Initial shape model\n",
    "    z_m = [sum(z_data[0])/len(z_data[0]), sum(z_data[1])/len(z_data[1]), sum(z_data[2])/len(z_data[2]) ]\n",
    "\n",
    "    S = np.zeros((n_data, n_data, 3))\n",
    "    Delta = np.zeros((n_data, 3))\n",
    "    W = np.zeros((n_data, 3))\n",
    "    for k in range(3):\n",
    "        for i in range(n_data):\n",
    "            for j in range(n_data):\n",
    "                S[i,j,k] = radial_basis( coor_data[0][i]-coor_data[0][j], coor_data[1][i]-coor_data[1][j], sigma[k] )\n",
    "\n",
    "    # Compute delta\n",
    "    for k in range(3):\n",
    "        for i in range(n_data):\n",
    "            Delta[i][k] = z1_data[i]-z_m[k]\n",
    "\n",
    "    # Compute Weights\n",
    "    for k in range(3):\n",
    "        W[:,k] = np.linalg.solve(S[:,:,k],Delta[:,k])\n",
    "\n",
    "    # Extimation in the test set\n",
    "    Z_RBF = np.zeros((n_test, 3))\n",
    "    for k in range(3):\n",
    "        Z_RBF[:,k] = z_m[k]*np.ones(n_test)\n",
    "    for k in range(3):\n",
    "        for i in range(n_test):\n",
    "            for j in range(n_data):\n",
    "                Z_RBF[i, k] = Z_RBF[i, k] +  W[j,k]*radial_basis( coor_test[0][i] - coor_data[0][j], coor_test[1][i] - coor_data[1][j], sigma[k] )\n",
    "    return Z_RBF"
   ]
  },
  {
   "cell_type": "code",
   "execution_count": 48,
   "metadata": {},
   "outputs": [],
   "source": [
    "sigma = [50, 50, 50]\n",
    "Z_RBF = RBF([z1_data, z2_data, z3_data], [x_data, y_data], [x_test, y_test], sigma)\n",
    "Z_target = np.array([z1_test, z2_test, z3_test]).T\n",
    "# Plotting curves\n",
    "tt = np.arange(0,200)\n",
    "plt.figure(figsize=(25,20))\n",
    "j=0\n",
    "for i,sigla in enumerate(test_labels):\n",
    "    index = p_list.index(sigla)\n",
    "    plt.subplot(4,2,j+1)\n",
    "    plt.title(sigla)\n",
    "    plt.grid(True)\n",
    "    wave_RBF = fc.gompertz(tt,Z_RBF[i][0], Z_RBF[i][1], Z_RBF[i][2])\n",
    "    wave_true = fc.gompertz(tt,z1[index], z2[index], z3[index])\n",
    "    plt.plot(tt,wave_RBF, color='red', label='RBF')\n",
    "    plt.plot(tt,wave_true, color='blue', label='True')\n",
    "    plt.ylabel('new positives/100000ab')\n",
    "    plt.legend()\n",
    "    j+=1"
   ]
  },
  {
   "cell_type": "code",
   "execution_count": null,
   "metadata": {},
   "outputs": [
    {
     "data": {
      "text/plain": [
       "\"\\ndef CostFunctional(sigma, ystar, z_data, coor_data, coor_test):\\n    def inputOutput(sigma):\\n        yh = RBF(z_data, coor_data, coor_test, sigma)\\n        return yh\\n    \\n    # print('Evaluating Cost Functional at: ['+str(sigma[0])+','+str(sigma[1])+','+str(sigma[2])+']')\\n    yh = inputOutput(sigma)\\n    return ((ystar-yh)**2).mean(axis=None)\\n    \""
      ]
     },
     "execution_count": 39,
     "metadata": {},
     "output_type": "execute_result"
    }
   ],
   "source": [
    "\"\"\"\n",
    "def CostFunctional(sigma, ystar, z_data, coor_data, coor_test):\n",
    "    def inputOutput(sigma):\n",
    "        yh = RBF(z_data, coor_data, coor_test, sigma)\n",
    "        return yh\n",
    "    \n",
    "    # print('Evaluating Cost Functional at: ['+str(sigma[0])+','+str(sigma[1])+','+str(sigma[2])+']')\n",
    "    yh = inputOutput(sigma)\n",
    "    return ((ystar-yh)**2).mean(axis=None)\n",
    "    \"\"\""
   ]
  },
  {
   "cell_type": "code",
   "execution_count": null,
   "metadata": {},
   "outputs": [
    {
     "data": {
      "text/plain": [
       "\"\\n# Define a grid for Sigma\\ns1 = np.linspace(1e-15,1e12, 15)\\ns2 = np.linspace(1e-15,1e12, 15)\\ns3 = np.linspace(1e-15,1e12, 15)\\nJ = 1e12\\nJ_list=[]\\n\\nfor i, x in enumerate(s1):\\n    print('advancing: '+str(i/s1.shape[0]*100)+'%')\\n    for y in s2:\\n        for z in s3:\\n            c = CostFunctional([x,y,z],Z_target,[z1_data, z2_data, z3_data], [x_data, y_data], [x_test, y_test])\\n            if c < J:\\n                J = c\\n                J_list.append(J)\\n                sigma_opt = [x,y,z]\\n\\nprint(sigma_opt)\\nplt.figure()\\nplt.plot(J_list, marker='.')\\nplt.grid(True)\\n\""
      ]
     },
     "execution_count": 40,
     "metadata": {},
     "output_type": "execute_result"
    }
   ],
   "source": [
    "\"\"\"\n",
    "# Define a grid for Sigma\n",
    "s1 = np.linspace(1e-15,1e12, 15)\n",
    "s2 = np.linspace(1e-15,1e12, 15)\n",
    "s3 = np.linspace(1e-15,1e12, 15)\n",
    "J = 1e12\n",
    "J_list=[]\n",
    "\n",
    "for i, x in enumerate(s1):\n",
    "    print('advancing: '+str(i/s1.shape[0]*100)+'%')\n",
    "    for y in s2:\n",
    "        for z in s3:\n",
    "            c = CostFunctional([x,y,z],Z_target,[z1_data, z2_data, z3_data], [x_data, y_data], [x_test, y_test])\n",
    "            if c < J:\n",
    "                J = c\n",
    "                J_list.append(J)\n",
    "                sigma_opt = [x,y,z]\n",
    "\n",
    "print(sigma_opt)\n",
    "plt.figure()\n",
    "plt.plot(J_list, marker='.')\n",
    "plt.grid(True)\n",
    "\"\"\""
   ]
  },
  {
   "cell_type": "code",
   "execution_count": null,
   "metadata": {},
   "outputs": [
    {
     "data": {
      "text/plain": [
       "\"\\nsigma=[50,50,50]\\nZ_RBF = RBF([z1_data, z2_data, z3_data], [x_data, y_data], [x_test, y_test], sigma)\\nZ_RBF_ = RBF([z1_data, z2_data, z3_data], [x_data, y_data], [x_test, y_test], sigma_opt)\\nplt.figure(figsize=(25,25))\\nfor i,sigla in enumerate(test_labels):\\n    index = p_list.index(sigla)\\n    plt.subplot(8,2, i+1)\\n    plt.title(sigla)\\n    plt.grid(True)\\n    wave_RBF = fc.gompertz(tt,Z_RBF[i][0], Z_RBF[i][1], Z_RBF[i][2])\\n    wave_RBF_ = fc.gompertz(tt,Z_RBF_[i][0], Z_RBF_[i][1], Z_RBF_[i][2])\\n    wave_true = fc.gompertz(tt,z1[index], z2[index], z3[index])\\n    plt.plot(tt,wave_RBF, color='red', label='RBF')\\n    plt.plot(tt,wave_RBF_, color='orange', label='RBF_opt')\\n    plt.plot(tt,wave_true, color='blue', label='True')\\n    plt.legend()\\n    j+=1\\n    \""
      ]
     },
     "execution_count": 41,
     "metadata": {},
     "output_type": "execute_result"
    }
   ],
   "source": [
    "\"\"\"\n",
    "sigma=[50,50,50]\n",
    "Z_RBF = RBF([z1_data, z2_data, z3_data], [x_data, y_data], [x_test, y_test], sigma)\n",
    "Z_RBF_ = RBF([z1_data, z2_data, z3_data], [x_data, y_data], [x_test, y_test], sigma_opt)\n",
    "plt.figure(figsize=(25,25))\n",
    "for i,sigla in enumerate(test_labels):\n",
    "    index = p_list.index(sigla)\n",
    "    plt.subplot(8,2, i+1)\n",
    "    plt.title(sigla)\n",
    "    plt.grid(True)\n",
    "    wave_RBF = fc.gompertz(tt,Z_RBF[i][0], Z_RBF[i][1], Z_RBF[i][2])\n",
    "    wave_RBF_ = fc.gompertz(tt,Z_RBF_[i][0], Z_RBF_[i][1], Z_RBF_[i][2])\n",
    "    wave_true = fc.gompertz(tt,z1[index], z2[index], z3[index])\n",
    "    plt.plot(tt,wave_RBF, color='red', label='RBF')\n",
    "    plt.plot(tt,wave_RBF_, color='orange', label='RBF_opt')\n",
    "    plt.plot(tt,wave_true, color='blue', label='True')\n",
    "    plt.legend()\n",
    "    j+=1\n",
    "    \"\"\""
   ]
  }
 ],
 "metadata": {
  "kernelspec": {
   "display_name": "my-env",
   "language": "python",
   "name": "python3"
  },
  "language_info": {
   "codemirror_mode": {
    "name": "ipython",
    "version": 3
   },
   "file_extension": ".py",
   "mimetype": "text/x-python",
   "name": "python",
   "nbconvert_exporter": "python",
   "pygments_lexer": "ipython3",
   "version": "3.10.9"
  },
  "orig_nbformat": 4
 },
 "nbformat": 4,
 "nbformat_minor": 2
}
